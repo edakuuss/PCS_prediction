{
 "cells": [
  {
   "cell_type": "code",
   "execution_count": 7,
   "metadata": {},
   "outputs": [
    {
     "name": "stdout",
     "output_type": "stream",
     "text": [
      "  File Name  Carbon  Nitrogen  Oxygen Catalytic  C Distance  O Distance  \\\n",
      "0    ALA-11      18         6       6       cat   58.228077   58.644928   \n",
      "1    ALA-18      15         6       7       cat   59.847515   59.388963   \n",
      "2    ALA-22      14         5      10       cat   66.113984   65.522461   \n",
      "3    ALA-26      11         3       6       cat   71.100264   70.502206   \n",
      "4    ALA-31      18         3       5       cat   67.690447   66.200736   \n",
      "\n",
      "   N Distance  \n",
      "0   57.315762  \n",
      "1   60.300327  \n",
      "2   66.733808  \n",
      "3   70.333197  \n",
      "4   67.888358  \n"
     ]
    }
   ],
   "source": [
    "import pandas as pd\n",
    "import numpy as np\n",
    "import os \n",
    "import glob\n",
    "import math\n",
    "\n",
    "list1=[]\n",
    "column_list= [\"File Name\",'Carbon', 'Nitrogen','Oxygen','Catalytic',\"Center of Mass of C Distance\", \"Center of Mass of O Distance\", \"Center of Mass of  N Distance\"] #Table title name list\n",
    "os.chdir(\"../treshold_min/\")\n",
    "path = os.getcwd()\n",
    "files = glob.glob(os.path.join(path, \"*.xyz\"))\n",
    "\n",
    "for file_name2 in files:\n",
    "    catalytic_tmp= file_name2.split(\"_\")[8]\n",
    "    catalytic= catalytic_tmp.split(\".\")[0]\n",
    "    df = pd.read_csv(file_name2, sep=\"\\t\")\n",
    "    col_name = [\"Atom_name\", \"X\", \"Y\", \"Z\"]\n",
    "    df.columns = col_name\n",
    "\n",
    "    Atom_counts= df['Atom_name'].value_counts()\n",
    "    carbon_number = Atom_counts.get('C', 0)\n",
    "    oxygen_number = Atom_counts.get('O', 0)\n",
    "    nitrogen_number = Atom_counts.get('N', 0)\n",
    "\n",
    "    temp_file_name = file_name2.split(\"_\")[6] + \"-\" + file_name2.split(\"_\")[7]\n",
    "    \n",
    "    carbon_index = df.index[df[\"Atom_name\"]==\"C\"]\n",
    "    oxygen_index = df.index[df[\"Atom_name\"]==\"O\"]\n",
    "    nitrogen_index = df.index[df[\"Atom_name\"]==\"N\"]\n",
    "\n",
    "    def average_center_of_mass(list):\n",
    "        total_distance_x =0\n",
    "        total_distance_y =0\n",
    "        total_distance_z =0\n",
    "        for i in list:\n",
    "            total_distance_x+=float(df[\"X\"][i])\n",
    "            total_distance_y+=float(df[\"Y\"][i])\n",
    "            total_distance_z+=float(df[\"Z\"][i])\n",
    "            \n",
    "        average_distance_x = total_distance_x / len(list)\n",
    "        average_distance_y = total_distance_y / len(list)\n",
    "        average_distance_z = total_distance_z / len(list)\n",
    "        return [average_distance_x, average_distance_y, average_distance_z]\n",
    "    \n",
    "    def measure_distance (coordinates): \n",
    "        total_distance = 0\n",
    "        for i in coordinates:\n",
    "            total_distance += i**2\n",
    "        distance=math.sqrt(total_distance)\n",
    "        return distance\n",
    "    \n",
    "    center_of_mass_of_carbon_distance = measure_distance(average_center_of_mass(carbon_index))\n",
    "    center_of_mass_of_oxygen_distance = measure_distance(average_center_of_mass(oxygen_index))\n",
    "    center_of_mass_of_nitrogen_distance = measure_distance(average_center_of_mass(nitrogen_index))\n",
    "\n",
    "    list1.append([temp_file_name, carbon_number,nitrogen_number,oxygen_number,\n",
    "                  catalytic,center_of_mass_of_carbon_distance, center_of_mass_of_oxygen_distance, center_of_mass_of_nitrogen_distance])\n",
    "\n",
    "dframe = pd.DataFrame(list1, columns=column_list)\n",
    "print(dframe)\n",
    "\n",
    "\n"
   ]
  },
  {
   "cell_type": "markdown",
   "metadata": {},
   "source": []
  },
  {
   "cell_type": "markdown",
   "metadata": {},
   "source": []
  },
  {
   "cell_type": "markdown",
   "metadata": {},
   "source": []
  }
 ],
 "metadata": {
  "kernelspec": {
   "display_name": ".venv",
   "language": "python",
   "name": "python3"
  },
  "language_info": {
   "codemirror_mode": {
    "name": "ipython",
    "version": 3
   },
   "file_extension": ".py",
   "mimetype": "text/x-python",
   "name": "python",
   "nbconvert_exporter": "python",
   "pygments_lexer": "ipython3",
   "version": "3.11.3"
  },
  "orig_nbformat": 4
 },
 "nbformat": 4,
 "nbformat_minor": 2
}
